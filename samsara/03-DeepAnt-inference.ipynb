{
 "cells": [
  {
   "cell_type": "code",
   "execution_count": 1,
   "metadata": {},
   "outputs": [],
   "source": [
    "%load_ext autoreload\n",
    "%autoreload 2"
   ]
  },
  {
   "cell_type": "code",
   "execution_count": 2,
   "metadata": {},
   "outputs": [],
   "source": [
    "import numpy as np\n",
    "from deepant import (\n",
    "    deepant_settings,\n",
    "    DeepAnt,\n",
    "    run_inference,\n",
    "    plot_losses,\n",
    "    detect_anomalies,\n",
    ")\n",
    "from evaluation import create_ground_truth, fix_dates, convert_dates\n",
    "from config_paths import AUX_PATHS"
   ]
  },
  {
   "cell_type": "code",
   "execution_count": 3,
   "metadata": {},
   "outputs": [
    {
     "name": "stderr",
     "output_type": "stream",
     "text": [
      "GPU available: True (cuda), used: True\n",
      "TPU available: False, using: 0 TPU cores\n",
      "IPU available: False, using: 0 IPUs\n",
      "HPU available: False, using: 0 HPUs\n"
     ]
    },
    {
     "data": {
      "text/plain": [
       "ForecastBasedAD(\n",
       "  (model): DeepAnt(\n",
       "    (convblock1): Sequential(\n",
       "      (0): Conv1d(1, 32, kernel_size=(3,), stride=(1,), padding=valid)\n",
       "      (1): ReLU(inplace=True)\n",
       "      (2): MaxPool1d(kernel_size=2, stride=2, padding=0, dilation=1, ceil_mode=False)\n",
       "    )\n",
       "    (convblock2): Sequential(\n",
       "      (0): Conv1d(32, 32, kernel_size=(3,), stride=(1,), padding=valid)\n",
       "      (1): ReLU(inplace=True)\n",
       "      (2): MaxPool1d(kernel_size=2, stride=2, padding=0, dilation=1, ceil_mode=False)\n",
       "    )\n",
       "    (flatten): Flatten(start_dim=1, end_dim=-1)\n",
       "    (denseblock): Sequential(\n",
       "      (0): Linear(in_features=32, out_features=40, bias=True)\n",
       "      (1): ReLU(inplace=True)\n",
       "      (2): Dropout(p=0.25, inplace=False)\n",
       "    )\n",
       "    (out): Linear(in_features=40, out_features=1, bias=True)\n",
       "  )\n",
       "  (criterion): MSELoss()\n",
       ")"
      ]
     },
     "execution_count": 3,
     "metadata": {},
     "output_type": "execute_result"
    }
   ],
   "source": [
    "OUT_DIMENSION = 1\n",
    "TRAIN = False\n",
    "CHECKPOINT_VERSION = \"v6\"\n",
    "SETTINGS = dict(\n",
    "    batch_size=5096,\n",
    "    nw=8,\n",
    "    epochs=30,\n",
    "    fast_dev_run=False,\n",
    "    overfit_batches=0,\n",
    "    name=\"DeepAnt\",\n",
    ")\n",
    "train_set = np.load(f\"../data/prep_data/train_set.npz\", allow_pickle=True)\n",
    "test_set = np.load(f\"../data/prep_data/test_set.npz\", allow_pickle=True)\n",
    "\n",
    "model = DeepAnt(OUT_DIMENSION)\n",
    "trainer, anomaly_detector, dm = deepant_settings(\n",
    "    model, train_set, test_set, SETTINGS, train=TRAIN\n",
    ")\n",
    "\n",
    "\n",
    "trained_model = anomaly_detector.load_from_checkpoint(\n",
    "    f\"../samsara/checkpoints/DeepAnt-best-checkpoint-{CHECKPOINT_VERSION}.ckpt\",\n",
    "    model=model,\n",
    ")\n",
    "trained_model"
   ]
  },
  {
   "cell_type": "code",
   "execution_count": 4,
   "metadata": {},
   "outputs": [],
   "source": [
    "ground_truth = create_ground_truth(\n",
    "    AUX_PATHS, cols_to_keep=[\"ID\", \"IDpix\", \"Finicio\", \"Ffinal\"]\n",
    ")\n",
    "ground_truth = ground_truth.pipe(fix_dates).pipe(convert_dates)"
   ]
  },
  {
   "cell_type": "code",
   "execution_count": 5,
   "metadata": {},
   "outputs": [
    {
     "name": "stderr",
     "output_type": "stream",
     "text": [
      "LOCAL_RANK: 0 - CUDA_VISIBLE_DEVICES: [0]\n"
     ]
    },
    {
     "data": {
      "application/vnd.jupyter.widget-view+json": {
       "model_id": "ec6f3d8420534cc9a4de6a7351a30115",
       "version_major": 2,
       "version_minor": 0
      },
      "text/plain": [
       "A Jupyter Widget"
      ]
     },
     "metadata": {},
     "output_type": "display_data"
    },
    {
     "name": "stdout",
     "output_type": "stream",
     "text": [
      "The Choosen Threshold corresponds to: 0.23280157148838043\n"
     ]
    },
    {
     "data": {
      "image/png": "[encoded data removed]",
      "text/plain": [
       "<Figure size 2000x600 with 1 Axes>"
      ]
     },
     "metadata": {},
     "output_type": "display_data"
    }
   ],
   "source": [
    "preds, val_losses = run_inference(trainer, anomaly_detector, dm)\n",
    "assert test_set[\"sequences\"].shape[0] == val_losses.shape[0]\n",
    "threshold = plot_losses(val_losses)\n",
    "print(f\"The Choosen Threshold corresponds to: {threshold}\")\n",
    "anomalies = (\n",
    "    detect_anomalies(test_set, val_losses, threshold=threshold)\n",
    "    .merge(ground_truth, how=\"left\", on=[\"NAME\", \"IDpix\", \"ID\"])\n",
    "    .assign(\n",
    "        is_right=lambda x: (x.Finicio <= x.target_dates) & (x.target_dates <= x.Ffinal),\n",
    "        P_id=lambda x: x.NAME + \"-\" + x.ID.astype(str),\n",
    "    )\n",
    ")\n",
    "anomalies.to_parquet(f\"../data/predictions/{SETTINGS['name']}_preds.parquet\")"
   ]
  },
  {
   "cell_type": "code",
   "execution_count": 6,
   "metadata": {},
   "outputs": [
    {
     "data": {
      "text/html": [
       "<div>\n",
       "<style scoped>\n",
       "    .dataframe tbody tr th:only-of-type {\n",
       "        vertical-align: middle;\n",
       "    }\n",
       "\n",
       "    .dataframe tbody tr th {\n",
       "        vertical-align: top;\n",
       "    }\n",
       "\n",
       "    .dataframe thead th {\n",
       "        text-align: right;\n",
       "    }\n",
       "</style>\n",
       "<table border=\"1\" class=\"dataframe\">\n",
       "  <thead>\n",
       "    <tr style=\"text-align: right;\">\n",
       "      <th></th>\n",
       "      <th>target_indices</th>\n",
       "      <th>target_dates</th>\n",
       "      <th>NAME</th>\n",
       "      <th>IDpix</th>\n",
       "      <th>ID</th>\n",
       "      <th>Finicio</th>\n",
       "      <th>Ffinal</th>\n",
       "      <th>is_right</th>\n",
       "      <th>P_id</th>\n",
       "    </tr>\n",
       "  </thead>\n",
       "  <tbody>\n",
       "    <tr>\n",
       "      <th>0</th>\n",
       "      <td>ESTABLE-221-6</td>\n",
       "      <td>2016-03-13</td>\n",
       "      <td>ESTABLE</td>\n",
       "      <td>221</td>\n",
       "      <td>6</td>\n",
       "      <td>2004-12-17</td>\n",
       "      <td>2022-05-01</td>\n",
       "      <td>True</td>\n",
       "      <td>ESTABLE-6</td>\n",
       "    </tr>\n",
       "    <tr>\n",
       "      <th>1</th>\n",
       "      <td>ESTABLE-222-6</td>\n",
       "      <td>2016-03-13</td>\n",
       "      <td>ESTABLE</td>\n",
       "      <td>222</td>\n",
       "      <td>6</td>\n",
       "      <td>2004-12-17</td>\n",
       "      <td>2022-05-01</td>\n",
       "      <td>True</td>\n",
       "      <td>ESTABLE-6</td>\n",
       "    </tr>\n",
       "    <tr>\n",
       "      <th>2</th>\n",
       "      <td>ESTABLE-223-6</td>\n",
       "      <td>2016-03-13</td>\n",
       "      <td>ESTABLE</td>\n",
       "      <td>223</td>\n",
       "      <td>6</td>\n",
       "      <td>2004-12-17</td>\n",
       "      <td>2022-05-01</td>\n",
       "      <td>True</td>\n",
       "      <td>ESTABLE-6</td>\n",
       "    </tr>\n",
       "    <tr>\n",
       "      <th>3</th>\n",
       "      <td>ESTABLE-224-6</td>\n",
       "      <td>2016-03-13</td>\n",
       "      <td>ESTABLE</td>\n",
       "      <td>224</td>\n",
       "      <td>6</td>\n",
       "      <td>2004-12-17</td>\n",
       "      <td>2022-05-01</td>\n",
       "      <td>True</td>\n",
       "      <td>ESTABLE-6</td>\n",
       "    </tr>\n",
       "    <tr>\n",
       "      <th>4</th>\n",
       "      <td>ESTABLE-225-6</td>\n",
       "      <td>2016-03-13</td>\n",
       "      <td>ESTABLE</td>\n",
       "      <td>225</td>\n",
       "      <td>6</td>\n",
       "      <td>2004-12-17</td>\n",
       "      <td>2022-05-01</td>\n",
       "      <td>True</td>\n",
       "      <td>ESTABLE-6</td>\n",
       "    </tr>\n",
       "    <tr>\n",
       "      <th>...</th>\n",
       "      <td>...</td>\n",
       "      <td>...</td>\n",
       "      <td>...</td>\n",
       "      <td>...</td>\n",
       "      <td>...</td>\n",
       "      <td>...</td>\n",
       "      <td>...</td>\n",
       "      <td>...</td>\n",
       "      <td>...</td>\n",
       "    </tr>\n",
       "    <tr>\n",
       "      <th>202570</th>\n",
       "      <td>VARIOS-632-337</td>\n",
       "      <td>2022-11-06</td>\n",
       "      <td>VARIOS</td>\n",
       "      <td>632</td>\n",
       "      <td>337</td>\n",
       "      <td>2017-08-13</td>\n",
       "      <td>2018-02-20</td>\n",
       "      <td>False</td>\n",
       "      <td>VARIOS-337</td>\n",
       "    </tr>\n",
       "    <tr>\n",
       "      <th>202571</th>\n",
       "      <td>VARIOS-633-337</td>\n",
       "      <td>2022-11-06</td>\n",
       "      <td>VARIOS</td>\n",
       "      <td>633</td>\n",
       "      <td>337</td>\n",
       "      <td>2017-08-13</td>\n",
       "      <td>2018-02-20</td>\n",
       "      <td>False</td>\n",
       "      <td>VARIOS-337</td>\n",
       "    </tr>\n",
       "    <tr>\n",
       "      <th>202572</th>\n",
       "      <td>VARIOS-571-337</td>\n",
       "      <td>2022-11-13</td>\n",
       "      <td>VARIOS</td>\n",
       "      <td>571</td>\n",
       "      <td>337</td>\n",
       "      <td>2017-08-13</td>\n",
       "      <td>2018-02-20</td>\n",
       "      <td>False</td>\n",
       "      <td>VARIOS-337</td>\n",
       "    </tr>\n",
       "    <tr>\n",
       "      <th>202573</th>\n",
       "      <td>VARIOS-573-337</td>\n",
       "      <td>2022-11-13</td>\n",
       "      <td>VARIOS</td>\n",
       "      <td>573</td>\n",
       "      <td>337</td>\n",
       "      <td>2017-08-13</td>\n",
       "      <td>2018-02-20</td>\n",
       "      <td>False</td>\n",
       "      <td>VARIOS-337</td>\n",
       "    </tr>\n",
       "    <tr>\n",
       "      <th>202574</th>\n",
       "      <td>VARIOS-574-337</td>\n",
       "      <td>2022-11-13</td>\n",
       "      <td>VARIOS</td>\n",
       "      <td>574</td>\n",
       "      <td>337</td>\n",
       "      <td>2017-08-13</td>\n",
       "      <td>2018-02-20</td>\n",
       "      <td>False</td>\n",
       "      <td>VARIOS-337</td>\n",
       "    </tr>\n",
       "  </tbody>\n",
       "</table>\n",
       "<p>202575 rows × 9 columns</p>\n",
       "</div>"
      ],
      "text/plain": [
       "        target_indices target_dates     NAME  IDpix   ID    Finicio  \\\n",
       "0        ESTABLE-221-6   2016-03-13  ESTABLE    221    6 2004-12-17   \n",
       "1        ESTABLE-222-6   2016-03-13  ESTABLE    222    6 2004-12-17   \n",
       "2        ESTABLE-223-6   2016-03-13  ESTABLE    223    6 2004-12-17   \n",
       "3        ESTABLE-224-6   2016-03-13  ESTABLE    224    6 2004-12-17   \n",
       "4        ESTABLE-225-6   2016-03-13  ESTABLE    225    6 2004-12-17   \n",
       "...                ...          ...      ...    ...  ...        ...   \n",
       "202570  VARIOS-632-337   2022-11-06   VARIOS    632  337 2017-08-13   \n",
       "202571  VARIOS-633-337   2022-11-06   VARIOS    633  337 2017-08-13   \n",
       "202572  VARIOS-571-337   2022-11-13   VARIOS    571  337 2017-08-13   \n",
       "202573  VARIOS-573-337   2022-11-13   VARIOS    573  337 2017-08-13   \n",
       "202574  VARIOS-574-337   2022-11-13   VARIOS    574  337 2017-08-13   \n",
       "\n",
       "           Ffinal  is_right        P_id  \n",
       "0      2022-05-01      True   ESTABLE-6  \n",
       "1      2022-05-01      True   ESTABLE-6  \n",
       "2      2022-05-01      True   ESTABLE-6  \n",
       "3      2022-05-01      True   ESTABLE-6  \n",
       "4      2022-05-01      True   ESTABLE-6  \n",
       "...           ...       ...         ...  \n",
       "202570 2018-02-20     False  VARIOS-337  \n",
       "202571 2018-02-20     False  VARIOS-337  \n",
       "202572 2018-02-20     False  VARIOS-337  \n",
       "202573 2018-02-20     False  VARIOS-337  \n",
       "202574 2018-02-20     False  VARIOS-337  \n",
       "\n",
       "[202575 rows x 9 columns]"
      ]
     },
     "execution_count": 6,
     "metadata": {},
     "output_type": "execute_result"
    }
   ],
   "source": [
    "anomalies"
   ]
  }
 ],
 "metadata": {
  "kernelspec": {
   "display_name": "dl",
   "language": "python",
   "name": "python3"
  },
  "language_info": {
   "codemirror_mode": {
    "name": "ipython",
    "version": 3
   },
   "file_extension": ".py",
   "mimetype": "text/x-python",
   "name": "python",
   "nbconvert_exporter": "python",
   "pygments_lexer": "ipython3",
   "version": "3.9.12"
  }
 },
 "nbformat": 4,
 "nbformat_minor": 2
}
