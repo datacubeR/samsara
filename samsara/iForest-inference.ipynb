{
 "cells": [
  {
   "cell_type": "code",
   "execution_count": 1,
   "metadata": {},
   "outputs": [],
   "source": [
    "import pandas as pd\n",
    "\n",
    "from config_paths import PATHS, AUX_PATHS\n",
    "from data_utils import import_data, preprocessing\n",
    "from data_prep import split_data, split_idx\n",
    "from evaluation import create_ground_truth, fix_dates, convert_dates\n",
    "from iforest import detect_anomalies"
   ]
  },
  {
   "cell_type": "code",
   "execution_count": 2,
   "metadata": {},
   "outputs": [
    {
     "data": {
      "text/html": [
       "<div>\n",
       "<style scoped>\n",
       "    .dataframe tbody tr th:only-of-type {\n",
       "        vertical-align: middle;\n",
       "    }\n",
       "\n",
       "    .dataframe tbody tr th {\n",
       "        vertical-align: top;\n",
       "    }\n",
       "\n",
       "    .dataframe thead th {\n",
       "        text-align: right;\n",
       "    }\n",
       "</style>\n",
       "<table border=\"1\" class=\"dataframe\">\n",
       "  <thead>\n",
       "    <tr style=\"text-align: right;\">\n",
       "      <th></th>\n",
       "      <th>ID</th>\n",
       "      <th>IDpix</th>\n",
       "      <th>Finicio</th>\n",
       "      <th>Ffinal</th>\n",
       "      <th>NAME</th>\n",
       "    </tr>\n",
       "  </thead>\n",
       "  <tbody>\n",
       "    <tr>\n",
       "      <th>0</th>\n",
       "      <td>0</td>\n",
       "      <td>1</td>\n",
       "      <td>2004-07-03</td>\n",
       "      <td>2022-10-21</td>\n",
       "      <td>ESTABLE</td>\n",
       "    </tr>\n",
       "    <tr>\n",
       "      <th>1</th>\n",
       "      <td>0</td>\n",
       "      <td>2</td>\n",
       "      <td>2004-07-03</td>\n",
       "      <td>2022-10-21</td>\n",
       "      <td>ESTABLE</td>\n",
       "    </tr>\n",
       "    <tr>\n",
       "      <th>2</th>\n",
       "      <td>0</td>\n",
       "      <td>3</td>\n",
       "      <td>2004-07-03</td>\n",
       "      <td>2022-10-21</td>\n",
       "      <td>ESTABLE</td>\n",
       "    </tr>\n",
       "    <tr>\n",
       "      <th>3</th>\n",
       "      <td>0</td>\n",
       "      <td>4</td>\n",
       "      <td>2004-07-03</td>\n",
       "      <td>2022-10-21</td>\n",
       "      <td>ESTABLE</td>\n",
       "    </tr>\n",
       "    <tr>\n",
       "      <th>4</th>\n",
       "      <td>0</td>\n",
       "      <td>5</td>\n",
       "      <td>2004-07-03</td>\n",
       "      <td>2022-10-21</td>\n",
       "      <td>ESTABLE</td>\n",
       "    </tr>\n",
       "    <tr>\n",
       "      <th>...</th>\n",
       "      <td>...</td>\n",
       "      <td>...</td>\n",
       "      <td>...</td>\n",
       "      <td>...</td>\n",
       "      <td>...</td>\n",
       "    </tr>\n",
       "    <tr>\n",
       "      <th>27092</th>\n",
       "      <td>369</td>\n",
       "      <td>2437</td>\n",
       "      <td>2006-02-27</td>\n",
       "      <td>2018-03-22</td>\n",
       "      <td>VARIOS</td>\n",
       "    </tr>\n",
       "    <tr>\n",
       "      <th>27093</th>\n",
       "      <td>369</td>\n",
       "      <td>2438</td>\n",
       "      <td>2006-02-27</td>\n",
       "      <td>2018-03-22</td>\n",
       "      <td>VARIOS</td>\n",
       "    </tr>\n",
       "    <tr>\n",
       "      <th>27094</th>\n",
       "      <td>369</td>\n",
       "      <td>2439</td>\n",
       "      <td>2006-02-27</td>\n",
       "      <td>2018-03-22</td>\n",
       "      <td>VARIOS</td>\n",
       "    </tr>\n",
       "    <tr>\n",
       "      <th>27095</th>\n",
       "      <td>369</td>\n",
       "      <td>2440</td>\n",
       "      <td>2006-02-27</td>\n",
       "      <td>2018-03-22</td>\n",
       "      <td>VARIOS</td>\n",
       "    </tr>\n",
       "    <tr>\n",
       "      <th>27096</th>\n",
       "      <td>369</td>\n",
       "      <td>2441</td>\n",
       "      <td>2006-02-27</td>\n",
       "      <td>2018-03-22</td>\n",
       "      <td>VARIOS</td>\n",
       "    </tr>\n",
       "  </tbody>\n",
       "</table>\n",
       "<p>27097 rows × 5 columns</p>\n",
       "</div>"
      ],
      "text/plain": [
       "        ID  IDpix    Finicio     Ffinal     NAME\n",
       "0        0      1 2004-07-03 2022-10-21  ESTABLE\n",
       "1        0      2 2004-07-03 2022-10-21  ESTABLE\n",
       "2        0      3 2004-07-03 2022-10-21  ESTABLE\n",
       "3        0      4 2004-07-03 2022-10-21  ESTABLE\n",
       "4        0      5 2004-07-03 2022-10-21  ESTABLE\n",
       "...    ...    ...        ...        ...      ...\n",
       "27092  369   2437 2006-02-27 2018-03-22   VARIOS\n",
       "27093  369   2438 2006-02-27 2018-03-22   VARIOS\n",
       "27094  369   2439 2006-02-27 2018-03-22   VARIOS\n",
       "27095  369   2440 2006-02-27 2018-03-22   VARIOS\n",
       "27096  369   2441 2006-02-27 2018-03-22   VARIOS\n",
       "\n",
       "[27097 rows x 5 columns]"
      ]
     },
     "execution_count": 2,
     "metadata": {},
     "output_type": "execute_result"
    }
   ],
   "source": [
    "ground_truth = create_ground_truth(\n",
    "    AUX_PATHS, cols_to_keep=[\"ID\", \"IDpix\", \"Finicio\", \"Ffinal\"]\n",
    ")\n",
    "ground_truth = ground_truth.pipe(fix_dates).pipe(convert_dates)\n",
    "ground_truth"
   ]
  },
  {
   "cell_type": "code",
   "execution_count": 3,
   "metadata": {},
   "outputs": [
    {
     "name": "stdout",
     "output_type": "stream",
     "text": [
      "Importing 1895 timestamps and 2309 Time Series for ESTABLE.\n",
      "Preprocessed data for ESTABLE. 2309 TimeSeries and 1195 TimeStamps.\n",
      "------------------------------------------------------\n",
      "Importing 2131 timestamps and 9270 Time Series for INCENDIO.\n",
      "Preprocessed data for INCENDIO. 9270 TimeSeries and 1195 TimeStamps.\n",
      "------------------------------------------------------\n",
      "Importing 2370 timestamps and 6666 Time Series for SEQUIA.\n",
      "Preprocessed data for SEQUIA. 6666 TimeSeries and 1195 TimeStamps.\n",
      "------------------------------------------------------\n",
      "Importing 1801 timestamps and 6411 Time Series for TALA.\n",
      "Preprocessed data for TALA. 6411 TimeSeries and 1195 TimeStamps.\n",
      "------------------------------------------------------\n",
      "Importing 1689 timestamps and 2441 Time Series for VARIOS.\n",
      "Preprocessed data for VARIOS. 2441 TimeSeries and 1195 TimeStamps.\n",
      "------------------------------------------------------\n"
     ]
    }
   ],
   "source": [
    "df_dict = {}\n",
    "for name in PATHS.keys():\n",
    "    df_dict[name] = import_data(name, paths=PATHS, aux_paths=AUX_PATHS).pipe(\n",
    "        preprocessing, name=name, filter_id=4\n",
    "    )\n",
    "    print(\"------------------------------------------------------\")\n",
    "\n",
    "train_df_dict, test_df_dict = split_data(df_dict, paths=PATHS, date=\"2016-01-01\")\n",
    "train_dates, test_dates = split_idx(df_dict, date=\"2016-01-01\")"
   ]
  },
  {
   "cell_type": "code",
   "execution_count": 4,
   "metadata": {},
   "outputs": [
    {
     "data": {
      "application/vnd.jupyter.widget-view+json": {
       "model_id": "faf957c71a2f4a1cac5b0d6e06ba2e34",
       "version_major": 2,
       "version_minor": 0
      },
      "text/plain": [
       "A Jupyter Widget"
      ]
     },
     "metadata": {},
     "output_type": "display_data"
    },
    {
     "data": {
      "application/vnd.jupyter.widget-view+json": {
       "model_id": "f0a052a7d10c4ccca77dad9f015a1011",
       "version_major": 2,
       "version_minor": 0
      },
      "text/plain": [
       "A Jupyter Widget"
      ]
     },
     "metadata": {},
     "output_type": "display_data"
    },
    {
     "data": {
      "application/vnd.jupyter.widget-view+json": {
       "model_id": "d3aaac1048e64dbb84a168e4f4aedf21",
       "version_major": 2,
       "version_minor": 0
      },
      "text/plain": [
       "A Jupyter Widget"
      ]
     },
     "metadata": {},
     "output_type": "display_data"
    },
    {
     "data": {
      "application/vnd.jupyter.widget-view+json": {
       "model_id": "522025ed348d418381422c50d60f74c2",
       "version_major": 2,
       "version_minor": 0
      },
      "text/plain": [
       "A Jupyter Widget"
      ]
     },
     "metadata": {},
     "output_type": "display_data"
    },
    {
     "data": {
      "application/vnd.jupyter.widget-view+json": {
       "model_id": "1bf02eb7692645dda6f7eecffa0b1561",
       "version_major": 2,
       "version_minor": 0
      },
      "text/plain": [
       "A Jupyter Widget"
      ]
     },
     "metadata": {},
     "output_type": "display_data"
    }
   ],
   "source": [
    "anomalies_df = detect_anomalies(\n",
    "    train_df_dict, test_df_dict, paths=PATHS, test_dates=test_dates\n",
    ")"
   ]
  },
  {
   "cell_type": "code",
   "execution_count": 5,
   "metadata": {},
   "outputs": [],
   "source": [
    "(\n",
    "    anomalies_df.merge(ground_truth, how=\"left\", on=[\"NAME\", \"IDpix\", \"ID\"]).assign(\n",
    "        is_right=lambda x: (x.Finicio <= x.target_dates) & (x.target_dates <= x.Ffinal),\n",
    "        P_id=lambda x: x.NAME + \"-\" + x.ID.astype(str),\n",
    "    )\n",
    ")\n",
    "anomalies_df\n",
    "anomalies_df.to_parquet(\"../data/predictions/Iforest_preds.parquet\")"
   ]
  }
 ],
 "metadata": {
  "kernelspec": {
   "display_name": "dl",
   "language": "python",
   "name": "python3"
  },
  "language_info": {
   "codemirror_mode": {
    "name": "ipython",
    "version": 3
   },
   "file_extension": ".py",
   "mimetype": "text/x-python",
   "name": "python",
   "nbconvert_exporter": "python",
   "pygments_lexer": "ipython3",
   "version": "3.9.16"
  }
 },
 "nbformat": 4,
 "nbformat_minor": 2
}
