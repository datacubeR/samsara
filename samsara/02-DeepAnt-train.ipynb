{
 "cells": [
  {
   "cell_type": "code",
   "execution_count": 1,
   "metadata": {},
   "outputs": [
    {
     "name": "stderr",
     "output_type": "stream",
     "text": [
      "GPU available: True (cuda), used: True\n",
      "TPU available: False, using: 0 TPU cores\n",
      "IPU available: False, using: 0 IPUs\n",
      "HPU available: False, using: 0 HPUs\n"
     ]
    }
   ],
   "source": [
    "import numpy as np\n",
    "from deepant import DeepAnt, deepant_settings\n",
    "import lightning as L\n",
    "\n",
    "OUT_DIMENSION = 1\n",
    "TRAIN = False\n",
    "SETTINGS = dict(\n",
    "    batch_size=5096,\n",
    "    nw=8,\n",
    "    epochs=30,\n",
    "    fast_dev_run=False,\n",
    "    overfit_batches=0,\n",
    "    name=\"DeepAnt\",\n",
    ")\n",
    "\n",
    "\n",
    "train_set = np.load(f\"../data/prep_data/train_set.npz\")\n",
    "test_set = np.load(f\"../data/prep_data/test_set.npz\")\n",
    "\n",
    "model = DeepAnt(OUT_DIMENSION)\n",
    "trainer, anomaly_detector, dm = deepant_settings(\n",
    "    model, train_set, test_set, SETTINGS, train=TRAIN\n",
    ")"
   ]
  }
 ],
 "metadata": {
  "kernelspec": {
   "display_name": "dl",
   "language": "python",
   "name": "python3"
  },
  "language_info": {
   "codemirror_mode": {
    "name": "ipython",
    "version": 3
   },
   "file_extension": ".py",
   "mimetype": "text/x-python",
   "name": "python",
   "nbconvert_exporter": "python",
   "pygments_lexer": "ipython3",
   "version": "3.9.12"
  }
 },
 "nbformat": 4,
 "nbformat_minor": 2
}
